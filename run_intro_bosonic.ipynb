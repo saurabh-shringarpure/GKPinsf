{
  "cells": [
    {
      "cell_type": "code",
      "execution_count": null,
      "metadata": {
        "collapsed": false
      },
      "outputs": [],
      "source": [
        "# This cell is added by sphinx-gallery\n# It can be customized to whatever you like\n%matplotlib inline"
      ]
    },
    {
      "cell_type": "markdown",
      "metadata": {},
      "source": [
        "\nAn introduction to the bosonic backend\n======================================\n\n<div class=\"alert alert-info\"><h4>Note</h4><p>This tutorial is first in a series on the ``bosonic`` backend. After getting acquainted\n   with the backend in this tutorial, go to :doc:`part 2 </demos/run_sampling_bosonic>`\n   to learn about how the backend can be used to sample non-Gaussian states. After that,\n   check out :doc:`part 3 </demos/run_GKP_bosonic>` for a deep dive into using the ``bosonic``\n   backend to simulate qubits encoded in photonic modes. These tutorials accompany\n   our research paper [[#bourassa2021]_].</p></div>\n\nSo far, Strawberry Fields allows its users to simulate photonic circuits using three\nbackends. Two of them, the ``fock`` and ``tf`` backends, represent the quantum state of the modes using the Fock or particle basis. These backends allow one to represent\narbitrary quantum states up to a photon cutoff, but this generality comes with an automatic\nexponential increase in the space complexity as a function of the number of modes\nwith the base of the exponent scaling as the energy of the state of light.\nAt the exact opposite end of this trade-off is the ``gaussian`` backend, in which there is no\nexponential scaling in the memory required, but at the same time there is only a subset of states\nthat can be represented.\n\nIn this tutorial, we introduce the new ``bosonic`` backend which borrows some of the best features\nof all the previous backends. Specifically, the ``bosonic`` backend is tailored to simulate states\nwhich can be represented as a linear combination of Gaussian functions in phase space.\nIt provides very succinct descriptions of Gaussian states, just\nlike the ``gaussian`` backend, but it can also provide descriptions of non-Gaussian states as well.\nMoreover, like in the ``gaussian`` backend, the application of the most common active and passive linear\noptical operations, like the displacement ``Dgate``, squeezing ``Sgate`` and beamsplitter ``BSgate`` gates,\nis extremely efficient.\n\nTo motivate the ideas behind the backend, we will investigate how to represent the highly non-classical\nand non-Gaussian cat state. Once we build our intuition we will introduce the ``bosonic`` backend and\ninvestigate how it represents quantum states. Finally, we discuss why\nit can provide advantages over other backends for many applications.\n\n<div class=\"alert alert-info\"><h4>Note</h4><p>We assume the reader is familiar with the basics of the phase-space picture of quantum mechanics,\n   including Wigner functions. For the uninitiated, a good place to start is the :doc:`CV quantum gate visualizations\n   tutorial </demos/run_gate_visualization>`.</p></div>\n"
      ]
    },
    {
      "cell_type": "markdown",
      "metadata": {},
      "source": [
        "Of Cats and Kets\n----------------\n\nCat states are defined to be linear superpositions of two coherent states\n\n\\begin{align}|k^\\alpha \\rangle_{\\text{cat}} = \\sqrt{\\mathcal{N}}\\left(|\\alpha \\rangle + e^{i \\pi k} |-\\alpha \\rangle \\right),\\end{align}\n\nwhere $| \\alpha \\rangle$ is a coherent state with amplitude\n$\\alpha$, $k$ is the phase parameter of the cat state and\n\n\\begin{align}\\mathcal{N} = \\frac{1}{2 (1+e^{-|\\alpha|^2}\\cos(\\pi k) )}\\end{align}\n\nis a normalization constant.\n\nGiven the universality of the Fock backend we can use it to simulate the preparation of this state\nand plot its Wigner function:\n\n"
      ]
    },
    {
      "cell_type": "code",
      "execution_count": null,
      "metadata": {
        "collapsed": false
      },
      "outputs": [],
      "source": [
        "# Usual imports\nimport strawberryfields as sf\nimport numpy as np\nimport matplotlib.pyplot as plt\nimport matplotlib as mpl\nfrom matplotlib import cm\n\n# Simulation and cat state parameters\nnmodes = 1\ncutoff = 30\nq = 4.0\np = 0.0\nhbar = 2\nalpha = (q + 1j * p) / np.sqrt(2 * hbar)\nk = 1\n\n# SF program\nprog_cat_fock = sf.Program(nmodes)\nwith prog_cat_fock.context as q:\n    sf.ops.Catstate(a=np.absolute(alpha), phi=np.angle(alpha), p=k) | q\n\neng = sf.Engine(\"fock\", backend_options={\"cutoff_dim\": cutoff, \"hbar\": hbar})\nstate = eng.run(prog_cat_fock).state\n\n# We now plot it\nxvec = np.linspace(-15, 15, 401)\nW = state.wigner(mode=0, xvec=xvec, pvec=xvec)\nWp = np.round(W.real, 4)\nscale = np.max(Wp.real)\nnrm = mpl.colors.Normalize(-scale, scale)\nplt.axes().set_aspect(\"equal\")\nplt.contourf(xvec, xvec, Wp, 60, cmap=cm.RdBu, norm=nrm)\nplt.show()"
      ]
    },
    {
      "cell_type": "markdown",
      "metadata": {},
      "source": [
        "Some parts of the Wigner function are easy to interpret: since the state\nis a coherent superposition of two widely separated coherent states,\nwe expect to see two circular blobs centered around $(q,p)=\\pm\\sqrt{2 \\hbar}(\\Re(\\alpha), \\Im(\\alpha))$.\nBecause a cat state is a *coherent* superposition of the two coherent states,\nwe also see interference fringes in between the \"classical\" states of the cat.\nMathematically, one can determine the nature of these interference fringes by\nlooking at the density matrix of a cat state given by\n\n\\begin{align}|k^\\alpha \\rangle \\langle k^\\alpha |_{\\text{cat}} = \\mathcal{N} \\left( |\\alpha \\rangle \\langle \\alpha| + |-\\alpha \\rangle \\langle -\\alpha|+e^{i \\pi k} |-\\alpha \\rangle \\langle \\alpha | + e^{-i \\pi k} |\\alpha \\rangle \\langle -\\alpha |\\right).\\end{align}\n\nThe transformation from density matrix to Wigner function is linear, so the first two terms exactly correspond to the Wigner functions of the two coherent states\n$|\\pm \\alpha \\rangle$ and are thus Gaussian functions centered around $\\boldsymbol{\\mu} = \\sqrt{2 \\hbar}(\\Re(\\alpha), \\Im(\\alpha))$,\nwith the usual vacuum noise giving them some finite width.\nThe last two terms in the equation above are more complicated to interpret. We know that they are the Hermitian\nconjugates of each other $(\\left[ e^{i \\pi k} |-\\alpha \\rangle \\langle \\alpha |\\right]^\\dagger = e^{-i \\pi k} |\\alpha \\rangle \\langle -\\alpha |)$\n, and by elimination they must correspond to the interference features present close to the origin\nof phase space.\n\nIn our recent preprint [[#bourassa2021]_], we show that the Wigner function of terms like $|-\\alpha \\rangle \\langle \\alpha |$\nis also a Gaussian function, but with *complex* means $\\boldsymbol{\\mu} = \\sqrt{2 \\hbar} i (\\Im(\\alpha),-\\Re(\\alpha))$.\nTherefore, we can express the Wigner function of the cat state as a weighted sum of four Gaussians in phase space ---\nas long as we allow the Gaussians to have complex means.\nSince a cat state can be written as a linear combination of Gaussian functions in phase space, we can simulate\nthe same circuit presented above using the ``bosonic`` backend. Since this backend does not\nuse Fock states, we don't need to pass a cutoff argument, thus we can write:\n\n"
      ]
    },
    {
      "cell_type": "code",
      "execution_count": null,
      "metadata": {
        "collapsed": false
      },
      "outputs": [],
      "source": [
        "prog_cat_bosonic = sf.Program(nmodes)\n\nwith prog_cat_bosonic.context as q:\n    sf.ops.Catstate(a=np.absolute(alpha), phi=np.angle(alpha), p=k) | q\n\neng = sf.Engine(\"bosonic\", backend_options={\"hbar\": hbar})\nstate = eng.run(prog_cat_bosonic).state"
      ]
    },
    {
      "cell_type": "markdown",
      "metadata": {},
      "source": [
        "We can now inspect the internal representation of the cat state inside\nthe ``bosonic`` backend. To this end, we can print the attributes ``means``,\n``covs`` and ``weights``.\nThe ``means`` variable is a NumPy array containing the means of the\nfour Gaussians needed to describe the state.\n\n"
      ]
    },
    {
      "cell_type": "code",
      "execution_count": null,
      "metadata": {
        "collapsed": false
      },
      "outputs": [],
      "source": [
        "means = state.means()\nprint(means)"
      ]
    },
    {
      "cell_type": "markdown",
      "metadata": {},
      "source": [
        "The first axis of the array is the one labelling the different Gaussians.\nSimilarly, ``covs`` contains the covariance matrices of the four Gaussians:\n\n"
      ]
    },
    {
      "cell_type": "code",
      "execution_count": null,
      "metadata": {
        "collapsed": false
      },
      "outputs": [],
      "source": [
        "covs = state.covs()\nprint(covs)"
      ]
    },
    {
      "cell_type": "markdown",
      "metadata": {},
      "source": [
        "Finally, as noted earlier the Wigner function is a *weighted* sum of the\nfour different Gaussians, the actual ``weights`` or coefficients are given by\n\n"
      ]
    },
    {
      "cell_type": "code",
      "execution_count": null,
      "metadata": {
        "collapsed": false
      },
      "outputs": [],
      "source": [
        "weights = state.weights()\nprint(weights)"
      ]
    },
    {
      "cell_type": "markdown",
      "metadata": {},
      "source": [
        "Note that both the ``weights`` and ``means`` are complex.\nWith the information provided from the backend, we are ready to verify\nthat we got the correct cat. To this end, we will first create a simple\nwrapper function to generate a Gaussian with mean ``mu`` and covariance\nmatrix ``V`` and a convenience function to evaluate it on a grid of points:\n\n"
      ]
    },
    {
      "cell_type": "code",
      "execution_count": null,
      "metadata": {
        "collapsed": false
      },
      "outputs": [],
      "source": [
        "def gaussian_func_gen(mu, V):\n    \"\"\"Generates a function that when evaluated returns\n    the value of a normalized Gaussian specified in terms\n    of a vector of means and a covariance matrix.\n\n    Args:\n        mu (array): vector of means\n        V (array): covariance matrix\n\n    Returns:\n        (callable): a normalized Gaussian function\n    \"\"\"\n    Vi = np.linalg.inv(V)\n    norm = 1.0 / np.sqrt(np.linalg.det(2 * np.pi * V))\n    fun = lambda x: norm * np.exp(-0.5 * (x - mu) @ Vi @ (x - mu))\n    return fun\n\n\ndef evaluate_fun(fun, xvec, yvec):\n    \"\"\"Evaluate a function a 2D in a grid of points.\n\n    Args:\n        fun (callable): function to evaluate\n        xvec (array): values of the first variable of the function\n        yvec (array): values of the second variable of the function\n\n    Returns:\n        (array): value of the function in the grid\n    \"\"\"\n    return np.array([[fun(np.array([x, y])) for x in xvec] for y in xvec])\n\n\nfuns = [gaussian_func_gen(means[i], covs[i]) for i in range(len(means))]\n\nWps = [weights[i] * evaluate_fun(funs[i], xvec, xvec) for i in range(len(weights))]"
      ]
    },
    {
      "cell_type": "markdown",
      "metadata": {},
      "source": [
        "The list ``Wps`` contains the values of the different Gaussians making\nthe Wigner function of the cat state. We can easily verify that when we\nsum the different components for every point in phase space we obtain\na zero imaginary part:\n\n"
      ]
    },
    {
      "cell_type": "code",
      "execution_count": null,
      "metadata": {
        "collapsed": false
      },
      "outputs": [],
      "source": [
        "print(np.allclose(sum(Wps).imag, 0))"
      ]
    },
    {
      "cell_type": "markdown",
      "metadata": {},
      "source": [
        "In fact, we can verify that the last two components are the complex\nconjugate of each other (thus their sum is real),\nand that the first two components are strictly real:\n\n"
      ]
    },
    {
      "cell_type": "code",
      "execution_count": null,
      "metadata": {
        "collapsed": false
      },
      "outputs": [],
      "source": [
        "print(np.allclose(Wps[2],  Wps[3].conj()))\nprint(np.allclose(Wps[0].imag, 0))\nprint(np.allclose(Wps[1].imag, 0))"
      ]
    },
    {
      "cell_type": "markdown",
      "metadata": {},
      "source": [
        "We can look individually at each of the Gaussians as well:\n\n"
      ]
    },
    {
      "cell_type": "code",
      "execution_count": null,
      "metadata": {
        "collapsed": false
      },
      "outputs": [],
      "source": [
        "fig, axs = plt.subplots(1, 4, figsize=(10, 2.2))\nfor i in range(4):\n    Wp = np.round(Wps[i].real, 4)\n    axs[i].contourf(xvec, xvec, Wp, 60, cmap=cm.RdBu, norm=nrm)\n    if i != 0:\n        axs[i].set_yticks([])\nplt.show()"
      ]
    },
    {
      "cell_type": "markdown",
      "metadata": {},
      "source": [
        "And also put them together to obtain exactly the same Wigner function\nfrom before:\n\n"
      ]
    },
    {
      "cell_type": "code",
      "execution_count": null,
      "metadata": {
        "collapsed": false
      },
      "outputs": [],
      "source": [
        "Wcat = sum(Wps)\nplt.axes().set_aspect(\"equal\")\nplt.contourf(xvec, xvec, Wcat.real, 60, cmap=cm.RdBu, norm=nrm)\nplt.show()"
      ]
    },
    {
      "cell_type": "markdown",
      "metadata": {},
      "source": [
        "Why is the bosonic backend useful?\n----------------------------------\nNow that we understand the internal workings of the new ``bosonic``\nbackend, let's illustrate its utility. To this end, let us consider\na slightly more complicated circuit where we displace a cat state.\nThis is how it looks in the Fock backend:\n\n"
      ]
    },
    {
      "cell_type": "code",
      "execution_count": null,
      "metadata": {
        "collapsed": false
      },
      "outputs": [],
      "source": [
        "x = 6\ny = 0\n\nbeta = (x + 1j * y) / np.sqrt(2 * hbar)\nprog_cat_fock_displaced = sf.Program(nmodes)\n\nwith prog_cat_fock_displaced.context as q:\n    sf.ops.Catstate(a=np.absolute(alpha), phi=np.angle(alpha), p=k) | q\n    sf.ops.Dgate(beta) | q\n\neng = sf.Engine(\"fock\", backend_options={\"cutoff_dim\": cutoff, \"hbar\": hbar})\nstate = eng.run(prog_cat_fock_displaced).state"
      ]
    },
    {
      "cell_type": "markdown",
      "metadata": {},
      "source": [
        "Plotting the Wigner function of the returned state:\n\n"
      ]
    },
    {
      "cell_type": "code",
      "execution_count": null,
      "metadata": {
        "collapsed": false
      },
      "outputs": [],
      "source": [
        "W = state.wigner(mode=0, xvec=xvec, pvec=xvec)\nplt.axes().set_aspect(\"equal\")\nplt.contourf(xvec, xvec, W, 60, cmap=cm.RdBu, norm=nrm)\nplt.show()"
      ]
    },
    {
      "cell_type": "markdown",
      "metadata": {},
      "source": [
        "This plot does not meet our expectation that a ``Dgate`` gate simply\ndisplaces the Wigner function of a state. Indeed, we see that significant distortion occurs in the\nright-hand-side .\nThis happened because the ``cutoff`` we choose is not sufficient to faithfully\nrepresent the *displaced* cat. A simple solution to this problem is to increase\nthe ``cutoff`` in the simulation, but that will lead to an increase in memory and\na slower simulation.\nThe behaviour of the ``fock`` backend can be contrasted\nwith the one of the ``bosonic`` backend where we obtain\n\n"
      ]
    },
    {
      "cell_type": "code",
      "execution_count": null,
      "metadata": {
        "collapsed": false
      },
      "outputs": [],
      "source": [
        "prog_cat_bosonic_displaced = sf.Program(nmodes)\n\nwith prog_cat_bosonic_displaced.context as q:\n    sf.ops.Catstate(a=np.absolute(alpha), phi=np.angle(alpha), p=k) | q\n    sf.ops.Dgate(beta) | q\n\neng = sf.Engine(\"bosonic\", backend_options={\"hbar\": hbar})\nstate = eng.run(prog_cat_bosonic_displaced).state"
      ]
    },
    {
      "cell_type": "markdown",
      "metadata": {},
      "source": [
        "Just like in the case of the ``fock`` backend,\nwe can also use the ``wigner`` method to generate Wigner functions:\n\n"
      ]
    },
    {
      "cell_type": "code",
      "execution_count": null,
      "metadata": {
        "collapsed": false
      },
      "outputs": [],
      "source": [
        "Wps = state.wigner(mode=0, xvec=xvec, pvec=xvec)\nplt.axes().set_aspect(\"equal\")\nplt.contourf(xvec, xvec, Wps, 60, cmap=cm.RdBu, norm=nrm)\nplt.show()"
      ]
    },
    {
      "cell_type": "markdown",
      "metadata": {},
      "source": [
        "We can easily verify that in the internal representation in the backend\nwe have only modified the displacement relative to the first program\nwe investigated:\n\n"
      ]
    },
    {
      "cell_type": "code",
      "execution_count": null,
      "metadata": {
        "collapsed": false
      },
      "outputs": [],
      "source": [
        "print(state.means())"
      ]
    },
    {
      "cell_type": "markdown",
      "metadata": {},
      "source": [
        "Conclusions and Outlook\n-----------------------\nIn this tutorial, we have introduced the new ``bosonic`` backend of Strawberry Fields,\nexplained the basic idea of how it represents quantum states and\nshowcased some of the advantages it has with respect to other backends.\nWe observed that when the energy of the cat state being considered was\nincreased by displacement, the Fock backend gave unexpected results,\nand it actually requires higher cutoff and more memory for accurate results.\nOn the other hand, the bosonic backend can quickly and easily deal with\nsituations such as this on by merely changing the means and covariance\nmatrices of the represented state.\nFor a more advanced feature, check out :doc:`part 2 </demos/run_sampling_bosonic>`\nof this series to see how the bosonic backend can be used for sampling.\n\n\n"
      ]
    },
    {
      "cell_type": "markdown",
      "metadata": {},
      "source": [
        "References\n----------\n\n.. [#bourassa2021]\n\n    J. Eli Bourassa, Nicol\u00e1s Quesada, Ilan Tzitrin, Antal Sz\u00e1va, Theodor Isacsson,\n    Josh Izaac, Krishna Kumar Sabapathy, Guillaume Dauphinais, and Ish Dhand.\n    Fast simulation of bosonic qubits via Gaussian functions in phase space.\n    `arXiv:2103.05530 <https://arxiv.org/abs/2103.05530>`_, 2021.\n\n"
      ]
    }
  ],
  "metadata": {
    "kernelspec": {
      "display_name": "Python 3",
      "language": "python",
      "name": "python3"
    },
    "language_info": {
      "codemirror_mode": {
        "name": "ipython",
        "version": 3
      },
      "file_extension": ".py",
      "mimetype": "text/x-python",
      "name": "python",
      "nbconvert_exporter": "python",
      "pygments_lexer": "ipython3",
      "version": "3.7.15"
    }
  },
  "nbformat": 4,
  "nbformat_minor": 0
}